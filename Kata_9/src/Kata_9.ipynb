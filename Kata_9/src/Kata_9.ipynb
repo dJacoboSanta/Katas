{
 "cells": [
  {
   "cell_type": "markdown",
   "metadata": {},
   "source": [
    "# Using Functions in Python"
   ]
  },
  {
   "cell_type": "markdown",
   "metadata": {},
   "source": [
    "Exercise #1"
   ]
  },
  {
   "cell_type": "code",
   "execution_count": 2,
   "metadata": {},
   "outputs": [
    {
     "data": {
      "text/plain": [
       "'Fuel Report:\\n    Average: 0.0%\\n    Tank_1: 0%\\n    Tank_2: 0%\\n    Tank_3: 0% \\n    '"
      ]
     },
     "execution_count": 2,
     "metadata": {},
     "output_type": "execute_result"
    }
   ],
   "source": [
    "def report(tank1, thank2, thank3):\n",
    "    average = (tank1 + thank2 + thank3)/3\n",
    "    return f\"\"\"Fuel Report:\n",
    "    Average: {average}%\n",
    "    Tank_1: {tank1}%\n",
    "    Tank_2: {thank2}%\n",
    "    Tank_3: {thank3}% \n",
    "    \"\"\"\n",
    "\n",
    "report(0, 0, 0)"
   ]
  },
  {
   "cell_type": "code",
   "execution_count": 3,
   "metadata": {},
   "outputs": [
    {
     "name": "stdout",
     "output_type": "stream",
     "text": [
      "Fuel Report:\n",
      "    Average: 60.0%\n",
      "    Tank_1: 50%\n",
      "    Tank_2: 30%\n",
      "    Tank_3: 100% \n",
      "    \n"
     ]
    }
   ],
   "source": [
    "def average(*arg):\n",
    "    total = sum(*arg)\n",
    "    amount = len(*arg)\n",
    "    return total / amount\n",
    "\n",
    "\n",
    "def report(tank1, tank2, tank3):\n",
    "    return f\"\"\"Fuel Report:\n",
    "    Average: {average([tank1, tank2, tank3])}%\n",
    "    Tank_1: {tank1}%\n",
    "    Tank_2: {tank2}%\n",
    "    Tank_3: {tank3}% \n",
    "    \"\"\"\n",
    "\n",
    "print(report(50, 30, 100))"
   ]
  },
  {
   "cell_type": "markdown",
   "metadata": {},
   "source": [
    "Exercise #2"
   ]
  },
  {
   "cell_type": "code",
   "execution_count": 4,
   "metadata": {},
   "outputs": [
    {
     "name": "stdout",
     "output_type": "stream",
     "text": [
      " \n",
      "    Mission to Mars\n",
      "    Travel Time: 1.5833333333333333 Hours\n",
      "    Total Fuel: 94635.2945 liter\n",
      "    \n"
     ]
    }
   ],
   "source": [
    "def mission_report(pre_launch_time, flight_time, destination, external_tank, internal_tank):\n",
    "    return f\"\"\" \n",
    "    Mission to {destination}\n",
    "    Travel Time: {(pre_launch_time + flight_time) / 60} Hours\n",
    "    Total Fuel: {((external_tank + internal_tank) * 3.78541178) / 1} liter\n",
    "    \"\"\"\n",
    "\n",
    "print(mission_report(30, 65, 'Mars', 5000, 20000))"
   ]
  },
  {
   "cell_type": "code",
   "execution_count": 5,
   "metadata": {},
   "outputs": [
    {
     "name": "stdout",
     "output_type": "stream",
     "text": [
      "\n",
      "    Mission to Jupiter\n",
      "    Total travel time: 86 minutes\n",
      "    Total fuel left: 500000\n",
      "    \n"
     ]
    }
   ],
   "source": [
    "def mission_report(destination, *minutes, **fuel_reservoirs):\n",
    "       return f\"\"\"\n",
    "    Mission to {destination}\n",
    "    Total travel time: {sum(minutes)} minutes\n",
    "    Total fuel left: {sum(fuel_reservoirs.values())}\n",
    "    \"\"\"\n",
    "print(mission_report(\"Jupiter\", 15, 20, 51, main=300000, external=200000))"
   ]
  },
  {
   "cell_type": "code",
   "execution_count": 6,
   "metadata": {},
   "outputs": [
    {
     "name": "stdout",
     "output_type": "stream",
     "text": [
      "\n",
      "    Mission to Jupiter\n",
      "    Total travel time: 86 minutes\n",
      "    Total fuel left: 500000\n",
      "    main tank --> 300000 gallons left\n",
      "external tank --> 200000 gallons left\n",
      "\n"
     ]
    }
   ],
   "source": [
    "def mission_report(destination, *minutes, **fuel_reservoirs):\n",
    "    main_report = f\"\"\"\n",
    "    Mission to {destination}\n",
    "    Total travel time: {sum(minutes)} minutes\n",
    "    Total fuel left: {sum(fuel_reservoirs.values())}\n",
    "    \"\"\"\n",
    "    for tank_name, gallons in fuel_reservoirs.items():\n",
    "        main_report += f\"{tank_name} tank --> {gallons} gallons left\\n\"\n",
    "    return main_report\n",
    "\n",
    "print(mission_report(\"Jupiter\", 15, 20, 51, main=300000, external=200000))"
   ]
  }
 ],
 "metadata": {
  "interpreter": {
   "hash": "96f067c861535691998c8653bccfff676c7f09568e991fac2d87343e96eef1af"
  },
  "kernelspec": {
   "display_name": "Python 3.10.2 64-bit",
   "language": "python",
   "name": "python3"
  },
  "language_info": {
   "codemirror_mode": {
    "name": "ipython",
    "version": 3
   },
   "file_extension": ".py",
   "mimetype": "text/x-python",
   "name": "python",
   "nbconvert_exporter": "python",
   "pygments_lexer": "ipython3",
   "version": "3.9.10"
  },
  "orig_nbformat": 4
 },
 "nbformat": 4,
 "nbformat_minor": 2
}
