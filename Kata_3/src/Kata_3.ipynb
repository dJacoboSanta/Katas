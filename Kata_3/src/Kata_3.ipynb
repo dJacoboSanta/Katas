{
 "cells": [
  {
   "cell_type": "markdown",
   "metadata": {},
   "source": [
    "# Asteroid Warning Program "
   ]
  },
  {
   "cell_type": "markdown",
   "metadata": {},
   "source": [
    "Exercise #1"
   ]
  },
  {
   "cell_type": "code",
   "execution_count": 11,
   "metadata": {},
   "outputs": [
    {
     "name": "stdout",
     "output_type": "stream",
     "text": [
      "Without Asteroid Hazard\n"
     ]
    }
   ],
   "source": [
    "asteroidSpeed = 49\n",
    "\n",
    "if asteroidSpeed < 25:\n",
    "    print(\"Alert Asteroid Hazard¡ It's Approaching Very Fast\")\n",
    "else :\n",
    "    print(\"Without Asteroid Hazard\")"
   ]
  },
  {
   "cell_type": "markdown",
   "metadata": {},
   "source": [
    "Exercise #2"
   ]
  },
  {
   "cell_type": "code",
   "execution_count": 12,
   "metadata": {},
   "outputs": [
    {
     "name": "stdout",
     "output_type": "stream",
     "text": [
      "Alert Asteroid Hazard¡ It's Approaching Very Fast\n"
     ]
    }
   ],
   "source": [
    "asteroidSpeed = 19\n",
    "\n",
    "if asteroidSpeed < 25:\n",
    "    print(\"Alert Asteroid Hazard¡ It's Approaching Very Fast\")\n",
    "elif asteroidSpeed >= 20:\n",
    "    print(\"Locate the Shooting Star in the Sky\") \n",
    "else :\n",
    "    print(\"Without Asteroid Hazard, Continue with your Day\")"
   ]
  },
  {
   "cell_type": "markdown",
   "metadata": {},
   "source": [
    "Exercise #3"
   ]
  },
  {
   "cell_type": "code",
   "execution_count": 13,
   "metadata": {},
   "outputs": [
    {
     "name": "stdout",
     "output_type": "stream",
     "text": [
      "Locate the Shooting Star in the Sky\n"
     ]
    }
   ],
   "source": [
    "asteroidSpeed = 25\n",
    "asteroidSize = 40\n",
    "if asteroidSpeed > 25 and asteroidSize > 25:\n",
    "    print(\"Alert Asteroid Hazard¡ It's Approaching Very Fast\")\n",
    "elif asteroidSpeed >= 20:\n",
    "    print(\"Locate the Shooting Star in the Sky\")\n",
    "elif asteroidSize < 25:\n",
    "    print('Nada que ver aquí :)')\n",
    "else:\n",
    "    print(\"Without Asteroid Hazard, Continue with your Day\")"
   ]
  }
 ],
 "metadata": {
  "interpreter": {
   "hash": "7fc3100bb7247e4e4c2bfb3f97260ddbb9ff1cf9713e61bd1ca518897a84da05"
  },
  "kernelspec": {
   "display_name": "Python 3.10.2 64-bit",
   "language": "python",
   "name": "python3"
  },
  "language_info": {
   "codemirror_mode": {
    "name": "ipython",
    "version": 3
   },
   "file_extension": ".py",
   "mimetype": "text/x-python",
   "name": "python",
   "nbconvert_exporter": "python",
   "pygments_lexer": "ipython3",
   "version": "3.10.2"
  },
  "orig_nbformat": 4
 },
 "nbformat": 4,
 "nbformat_minor": 2
}
