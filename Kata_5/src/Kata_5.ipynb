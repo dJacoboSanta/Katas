{
 "cells": [
  {
   "cell_type": "markdown",
   "metadata": {},
   "source": [
    "# Use Arithmetic Operators"
   ]
  },
  {
   "cell_type": "markdown",
   "metadata": {},
   "source": [
    "Exercise #1"
   ]
  },
  {
   "cell_type": "code",
   "execution_count": 8,
   "metadata": {},
   "outputs": [
    {
     "name": "stdout",
     "output_type": "stream",
     "text": [
      "Distance between Earth and Jupiter: 628949330\n",
      "Distance between Earth and Jupiter in Miles: 390577534\n"
     ]
    }
   ],
   "source": [
    "distanceEarth = 149597870 #km\n",
    "distanceJupiter = 778547200 #km\n",
    "\n",
    "distanceBetween = abs(distanceEarth - distanceJupiter) \n",
    "distanceMiles = round(distanceBetween * 0.621)\n",
    "\n",
    "print(\"Distance between Earth and Jupiter: \" + str(distanceBetween) + \"\\n\" + \"Distance between Earth and Jupiter in Miles: \" + str(distanceMiles))"
   ]
  },
  {
   "cell_type": "markdown",
   "metadata": {},
   "source": [
    "Exercise #2"
   ]
  },
  {
   "cell_type": "code",
   "execution_count": 10,
   "metadata": {},
   "outputs": [
    {
     "name": "stdout",
     "output_type": "stream",
     "text": [
      "Distance between First Planet and Second Planet: 4437200000\n",
      "Distance between First Planet and Second Planet in Miles: 2755501200\n"
     ]
    }
   ],
   "source": [
    "dFirstPlanet = input(\"Enter the distance from the sun for the first planet in KM\")\n",
    "dSecondPlanet = input(\"Enter the distance from the sun for the second planet in KM\")\n",
    "\n",
    "firstPlanet = int(dFirstPlanet)\n",
    "secondPlanet = int(dSecondPlanet)\n",
    "\n",
    "distanceBetween = abs(firstPlanet - secondPlanet) \n",
    "distanceMiles = round(distanceBetween * 0.621)\n",
    "\n",
    "print(\"Distance between First Planet and Second Planet: \" + str(distanceBetween) + \"\\n\" + \"Distance between First Planet and Second Planet in Miles: \" + str(distanceMiles))\n",
    "\n"
   ]
  }
 ],
 "metadata": {
  "interpreter": {
   "hash": "7fc3100bb7247e4e4c2bfb3f97260ddbb9ff1cf9713e61bd1ca518897a84da05"
  },
  "kernelspec": {
   "display_name": "Python 3.10.2 64-bit",
   "language": "python",
   "name": "python3"
  },
  "language_info": {
   "codemirror_mode": {
    "name": "ipython",
    "version": 3
   },
   "file_extension": ".py",
   "mimetype": "text/x-python",
   "name": "python",
   "nbconvert_exporter": "python",
   "pygments_lexer": "ipython3",
   "version": "3.10.2"
  },
  "orig_nbformat": 4
 },
 "nbformat": 4,
 "nbformat_minor": 2
}
