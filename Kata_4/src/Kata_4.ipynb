{
 "cells": [
  {
   "cell_type": "markdown",
   "metadata": {},
   "source": [
    "# String Transform "
   ]
  },
  {
   "cell_type": "markdown",
   "metadata": {},
   "source": [
    "Exercise #1"
   ]
  },
  {
   "cell_type": "code",
   "execution_count": 25,
   "metadata": {},
   "outputs": [
    {
     "name": "stdout",
     "output_type": "stream",
     "text": [
      "On average, the Moon moves 4cm away from the Earth every year\n",
      "The highest daylight temperature of the Moon is 127 C.\n",
      "\n",
      "\n",
      "Interesting facts about the Moon\n",
      "The Moon is Earth's only satellite\n",
      "There are several interesting facts about the Moon and how it affects life here on Earth\n",
      "On average, the Moon moves 4cm away from the Earth every year\n",
      "This yearly drift is not significant enough to cause immediate effects on Earth\n",
      "The highest daylight temperature of the Moon is 127 Celsius.\n"
     ]
    }
   ],
   "source": [
    "text = \"\"\"Interesting facts about the Moon. The Moon is Earth's only satellite. There are several interesting facts about the Moon and how it affects life here on Earth. On average, the Moon moves 4cm away from the Earth every year. This yearly drift is not significant enough to cause immediate effects on Earth. The highest daylight temperature of the Moon is 127 C.\"\"\"\n",
    "\n",
    "textParts = text.split('. ')\n",
    "\n",
    "#print(textParts)\n",
    "\n",
    "#define KeyWords\n",
    "defineKeyWords = [\"average\", \"temperature\", \"distance\"]\n",
    "\n",
    "#Define loop for \n",
    "for conteiner in textParts:\n",
    "    #Define Second loop for and Keywords assignment \n",
    "    for keyWord in defineKeyWords:\n",
    "        #Condition \n",
    "        if keyWord in conteiner:\n",
    "            print(conteiner)\n",
    "            break\n",
    "        \n",
    "print (\"\\n\")\n",
    "        \n",
    "for conteiner in textParts:\n",
    "    for defineKeyWords in textParts:\n",
    "        if defineKeyWords in conteiner:\n",
    "            print(conteiner.replace(' C', ' Celsius'))\n",
    "            break"
   ]
  },
  {
   "cell_type": "markdown",
   "metadata": {},
   "source": [
    "Exercesi #2"
   ]
  },
  {
   "cell_type": "code",
   "execution_count": 21,
   "metadata": {},
   "outputs": [
    {
     "name": "stdout",
     "output_type": "stream",
     "text": [
      "                    Gravity Facts About Moon\n",
      " ************************************************************\n",
      "... Planet name: Earth \n",
      "... Gravity on Moon: 1.6199999999999999m\n",
      "... \n",
      "                    Gravity Facts about Ganímedes\n",
      "... ************************************************************\n",
      "... Planet name: Marte \n",
      "... Gravity on Ganímedes: 1.4300000000000002m\n"
     ]
    }
   ],
   "source": [
    "name = \"Moon\"\n",
    "gravity = 0.00162 # in kms\n",
    "planet = \"Earth\"\n",
    "\n",
    "title = f'Gravity Facts about Moon'\n",
    "\n",
    "template = f\"\"\" {'*' * 60}\n",
    "... Planet name: {planet} \n",
    "... Gravity on {name}: {str((gravity * 1000))}m\"\"\"\n",
    "\n",
    "match = f\"\"\"{' ' * 20 + title.title()}\n",
    "{template}\n",
    "... \"\"\"\n",
    "\n",
    "print(match)\n",
    "\n",
    "planet = 'Marte'\n",
    "gravity  = 0.00143\n",
    "name = 'Ganímedes'\n",
    "\n",
    "newMatch = f\"\"\"{' ' * 20 + title.replace('Moon', 'Ganímedes')}\n",
    "... {'*' * 60}\n",
    "... Planet name: {planet} \n",
    "... Gravity on {name}: {str((gravity * 1000))}m\"\"\"\n",
    "\n",
    "print(newMatch.format(name=name, gravity=gravity, planet=planet))"
   ]
  }
 ],
 "metadata": {
  "interpreter": {
   "hash": "7fc3100bb7247e4e4c2bfb3f97260ddbb9ff1cf9713e61bd1ca518897a84da05"
  },
  "kernelspec": {
   "display_name": "Python 3.10.2 64-bit",
   "language": "python",
   "name": "python3"
  },
  "language_info": {
   "codemirror_mode": {
    "name": "ipython",
    "version": 3
   },
   "file_extension": ".py",
   "mimetype": "text/x-python",
   "name": "python",
   "nbconvert_exporter": "python",
   "pygments_lexer": "ipython3",
   "version": "3.10.2"
  },
  "orig_nbformat": 4
 },
 "nbformat": 4,
 "nbformat_minor": 2
}
