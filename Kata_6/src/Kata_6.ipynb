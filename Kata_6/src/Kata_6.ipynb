{
 "cells": [
  {
   "cell_type": "markdown",
   "metadata": {},
   "source": [
    "# Create and Use Python Lists"
   ]
  },
  {
   "cell_type": "markdown",
   "metadata": {},
   "source": [
    "Exercise #1"
   ]
  },
  {
   "cell_type": "code",
   "execution_count": 5,
   "metadata": {},
   "outputs": [
    {
     "name": "stdout",
     "output_type": "stream",
     "text": [
      "This are the Planets of the Milky Way:  ['Mercury', 'Venus', 'Earth', 'Mars', 'Jupiter', 'Saturn', 'Uranus', 'Neptune']\n",
      "This are the Planets of the Milky Way:  ['Mercury', 'Venus', 'Earth', 'Mars', 'Jupiter', 'Saturn', 'Uranus', 'Neptune', 'Pluto']\n"
     ]
    }
   ],
   "source": [
    "planets = ['Mercury', 'Venus', 'Earth', 'Mars', 'Jupiter', 'Saturn', 'Uranus', 'Neptune']\n",
    "\n",
    "print('This are the Planets of the Milky Way: ', planets[0:])\n",
    "\n",
    "planets.append('Pluto')\n",
    "\n",
    "print('This are the Planets of the Milky Way: ', planets[0:])"
   ]
  },
  {
   "cell_type": "markdown",
   "metadata": {},
   "source": [
    "Exercise #2"
   ]
  },
  {
   "cell_type": "code",
   "execution_count": 6,
   "metadata": {},
   "outputs": [
    {
     "name": "stdout",
     "output_type": "stream",
     "text": [
      "This are planets closer than Earth\n",
      "['Mercury', 'Venus']\n",
      "Here are the planets further than Earth\n",
      "['Mars', 'Jupiter', 'Saturn', 'Neptune']\n"
     ]
    }
   ],
   "source": [
    "planets = ['Mercury', 'Venus', 'Earth', 'Mars', 'Jupiter', 'Saturn', 'Neptune']\n",
    "\n",
    "cInput = input('Enter the Name of a Planet starting with a capital letter') \n",
    "\n",
    "pIndex = planets.index(cInput)\n",
    "\n",
    "print('This are planets closer than ' + cInput)\n",
    "print(planets[0:pIndex])\n",
    "\n",
    "print('Here are the planets further than ' + cInput)\n",
    "print(planets[pIndex + 1:])"
   ]
  }
 ],
 "metadata": {
  "interpreter": {
   "hash": "c92056e80154831f72449189bdecc3e294335057e09903b2fd306115a47e5955"
  },
  "kernelspec": {
   "display_name": "Python 3.10.2 64-bit (windows store)",
   "language": "python",
   "name": "python3"
  },
  "language_info": {
   "codemirror_mode": {
    "name": "ipython",
    "version": 3
   },
   "file_extension": ".py",
   "mimetype": "text/x-python",
   "name": "python",
   "nbconvert_exporter": "python",
   "pygments_lexer": "ipython3",
   "version": "3.10.2"
  },
  "orig_nbformat": 4
 },
 "nbformat": 4,
 "nbformat_minor": 2
}
